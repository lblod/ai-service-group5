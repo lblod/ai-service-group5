{
 "cells": [
  {
   "cell_type": "code",
   "execution_count": 1,
   "metadata": {},
   "outputs": [],
   "source": [
    "from besluit import besluit_plaintext, besluit_plaintext_2"
   ]
  },
  {
   "cell_type": "code",
   "execution_count": 2,
   "metadata": {},
   "outputs": [],
   "source": [
    "import ollama\n",
    "\n",
    "from ollama import Client\n",
    "\n",
    "client = Client(host='http://ollama:11434')\n",
    "\n",
    "\n",
    "def response(prompt):\n",
    "\n",
    "\n",
    "    client.pull('llama3.1')\n",
    "    response = client.generate(model='llama3.1', prompt=prompt)\n",
    "    # response = client.chat(\"llama3.1\", messages=[\n",
    "    # {\n",
    "    #     'role': 'user',\n",
    "    #     'content': 'Why is the sky blue?',\n",
    "    # },    ])\n",
    "    return response\n"
   ]
  },
  {
   "cell_type": "markdown",
   "metadata": {},
   "source": [
    "# Summarize the Besluit"
   ]
  },
  {
   "cell_type": "code",
   "execution_count": 43,
   "metadata": {},
   "outputs": [],
   "source": [
    "from prompts import summary_prompt"
   ]
  },
  {
   "cell_type": "code",
   "execution_count": 5,
   "metadata": {},
   "outputs": [],
   "source": [
    "prompt = \"\"\"\n",
    "You are a document summarizer. Based on the regulation document you received, you create a clear summary of the regulation. \n",
    "The summary must contain between 200 and 500 words.\n",
    "\n",
    "Answer in **Dutch**\n",
    "\n",
    "Mention clearly what is the Product that is describe in the reglementation.\n",
    "\n",
    "document: \n",
    "\"\"\"\n",
    "\n",
    "prompt +=besluit_plaintext"
   ]
  },
  {
   "cell_type": "code",
   "execution_count": 6,
   "metadata": {},
   "outputs": [
    {
     "name": "stdout",
     "output_type": "stream",
     "text": [
      "**Samenvatting van het reglement**\n",
      "\n",
      "Het reglement \"Retributiereglement voor het gebruik van repetitielokaal The Basement Lievegem\" heeft tot doel retributies vast te leggen die zijn verschuldigd door de gebruikers van de repetitieruimte in Lievegem.\n",
      "\n",
      "**Product**: Het product dat wordt beschreven in dit reglement is de repetitieruimte \"The Basement\" in 't Kwadrant, Hofbouwstraat 1, 9930 Lievegem.\n",
      "\n",
      "Het reglement bevat drie artikelen:\n",
      "\n",
      "* Artikel 2 definieert de tarieven voor het gebruik van de repetitieruimte: €2 per uur voor individuele beoefenaars (maximaal 4 uur aaneensluitend), €4 per uur voor groepen (maximaal 4 uur aaneensluitend), €19 per dag en €190 per jaar.\n",
      "* Artikel 3 beschrijft de betalingsmodaliteiten: de retributie moet worden betaald binnen 30 dagen na verzending van de factuur, en bij gebrek aan betaling zal de invordering van onbetwiste en opeisbare niet-fiscale ontvangsten gebeuren.\n",
      "* Artikel 4 beschrijft het oneigenlijk gebruik van de ruimte: de gebruiker verklaart dat de gegevens op het aanvraagformulier conform zijn met betrekking tot de aanvrager en de geplande activiteit, en indien zou blijken dat de werkelijke activiteit niet overeenstemt met de toegelaten activiteit wordt een schadevergoeding opgelegd van €125.\n",
      "\n",
      "Het reglement eindigt met het besluit van de gemeenteraad om het aangepast retributiereglement vast te stellen, dat in werking treedt vanaf 1 juni 2024. Het oude retributiereglement uit 2019 wordt opgeheven.\n"
     ]
    }
   ],
   "source": [
    "res = response(prompt)\n",
    "print(res['response'])\n",
    "summary = res['response']"
   ]
  },
  {
   "cell_type": "markdown",
   "metadata": {},
   "source": [
    "# Extract the associated product"
   ]
  },
  {
   "cell_type": "code",
   "execution_count": 7,
   "metadata": {},
   "outputs": [],
   "source": [
    "from prompts import product_prompt"
   ]
  },
  {
   "cell_type": "code",
   "execution_count": 21,
   "metadata": {},
   "outputs": [
    {
     "name": "stdout",
     "output_type": "stream",
     "text": [
      "<Product> Retributiereglement voor het gebruik van repetitielokaal The Basement Lievegem <\\Product>\n"
     ]
    }
   ],
   "source": [
    "res_product = response(f\"{product_prompt}\\n{summary}\")\n",
    "product = res_product['response']  \n",
    "print(product)\n",
    "product = product.split(\"<Product>\")[-1].split(\"<\\Product>\")[0]"
   ]
  },
  {
   "cell_type": "code",
   "execution_count": 22,
   "metadata": {},
   "outputs": [
    {
     "data": {
      "text/plain": [
       "' Retributiereglement voor het gebruik van repetitielokaal The Basement Lievegem '"
      ]
     },
     "execution_count": 22,
     "metadata": {},
     "output_type": "execute_result"
    }
   ],
   "source": [
    "product"
   ]
  },
  {
   "cell_type": "markdown",
   "metadata": {},
   "source": [
    "Describe the product in details"
   ]
  },
  {
   "cell_type": "code",
   "execution_count": 10,
   "metadata": {},
   "outputs": [],
   "source": [
    "from prompts import prompt_description\n",
    "pr = f\"{prompt_description}\\nProduct name : {product}\\nregulation{besluit_plaintext}\""
   ]
  },
  {
   "cell_type": "code",
   "execution_count": 11,
   "metadata": {},
   "outputs": [
    {
     "name": "stdout",
     "output_type": "stream",
     "text": [
      "<Product> Retributiereglement voor het gebruik van repetitielokaal The Basement Lievegem <\\Product>\n",
      "\n",
      "Dit reglement bevat een beschrijving van de tarieven, betalingsmodaliteiten en oneigenlijk gebruik van de repetitieruimte \"The Basement\" in 't Kwadrant, Hofbouwstraat 1, 9930 Lievegem.\n"
     ]
    }
   ],
   "source": [
    "res_description = response(pr)\n",
    "product_description = res_product['response']  \n",
    "print(product_description)"
   ]
  },
  {
   "cell_type": "code",
   "execution_count": 18,
   "metadata": {},
   "outputs": [],
   "source": [
    "from prompts import prompt_multi_fields\n"
   ]
  },
  {
   "cell_type": "code",
   "execution_count": 19,
   "metadata": {},
   "outputs": [
    {
     "name": "stdout",
     "output_type": "stream",
     "text": [
      "Here are the extracted data:\n",
      "\n",
      "**Conditions associated to the product:**\n",
      "\n",
      "<Condition>Uitsluitend voor individuele beoefenaars en groepen.</Condition>\n",
      "<Condition>Tarief omvat naast het gebruik van de zaal ook de aanwezige basisuitrusting en energiekosten.</Condition>\n",
      "\n",
      "**Proof that needs to be provided:**\n",
      "\n",
      "<Proof>Betalingsbewijs of bewijs dat de factuur is betaald.</Proof>\n",
      "<Proof>Factuur met een betalingstijd van 30 dagen na verzending.</Proof>\n",
      "\n",
      "**Procedure to access the product:**\n",
      "\n",
      "<Procedure>Gebruikers dienen zich te registreren en een aanvraagformulier in te dienen om de repetitieruimte te reserveren.</Procedure>\n",
      "<Procedure>Repetitielokaal wordt opgelost bij gebrek aan betaling van factuur, behoudens het recht om in te spreken binnen 30 dagen na verzending.</Procedure>\n",
      "\n",
      "Let me know if you'd like me to clarify anything!\n"
     ]
    }
   ],
   "source": [
    "res_multifiel = response(prompt_multi_fields.format(product_name=product, regulation=besluit_plaintext))\n",
    "print(res_multifiel[\"response\"])"
   ]
  },
  {
   "cell_type": "code",
   "execution_count": 26,
   "metadata": {},
   "outputs": [],
   "source": [
    "r = response(\"\"\"transform this LLM output in a json with fields like this one\n",
    "             {\n",
    "              Conditions :[],\n",
    "              Procedure :[],\n",
    "              Proof :[] \n",
    "             }\n",
    "             \n",
    "             \\n\"\"\"+res_multifiel[\"response\"])"
   ]
  },
  {
   "cell_type": "code",
   "execution_count": 27,
   "metadata": {},
   "outputs": [
    {
     "name": "stdout",
     "output_type": "stream",
     "text": [
      "Here is the transformed LLM output into a JSON format with the specified fields:\n",
      "\n",
      "```\n",
      "{\n",
      "  \"Conditions\": [\n",
      "    \"Uitsluitend voor individuele beoefenaars en groepen.\",\n",
      "    \"Tarief omvat naast het gebruik van de zaal ook de aanwezige basisuitrusting en energiekosten.\"\n",
      "  ],\n",
      "  \"Procedure\": [\n",
      "    \"Gebruikers dienen zich te registreren en een aanvraagformulier in te dienen om de repetitieruimte te reserveren.\",\n",
      "    \"Repetitielokaal wordt opgelost bij gebrek aan betaling van factuur, behoudens het recht om in te spreken binnen 30 dagen na verzending.\"\n",
      "  ],\n",
      "  \"Proof\": [\n",
      "    \"Betalingsbewijs of bewijs dat de factuur is betaald.\",\n",
      "    \"Factuur met een betalingstijd van 30 dagen na verzending.\"\n",
      "  ]\n",
      "}\n",
      "```\n",
      "\n",
      "Let me know if you'd like me to make any adjustments!\n"
     ]
    }
   ],
   "source": [
    "print(r['response'])"
   ]
  },
  {
   "cell_type": "markdown",
   "metadata": {},
   "source": [
    "# Besluit Title \n",
    "This is a prompt to get title from the Besluit. "
   ]
  },
  {
   "cell_type": "code",
   "execution_count": 18,
   "metadata": {},
   "outputs": [],
   "source": [
    "prompt_title = \"\"\"\n",
    "You give title to a product or service that are derived from reglementations.\n",
    "Below you will receive a summary of the documentation. Extract the title from the associated product. \n",
    "\n",
    "The titles are in Dutch and contains 30 words. The title are between the separator <TITLE>\n",
    "Answer in Dutch\n",
    "\n",
    "Here are three example : \n",
    "document 1 : \"\n",
    "Hier is een samenvatting van het document in maximaal 500 woorden:\n",
    "\n",
    "**Retributiereglement voor het gebruik van repetitielokaal The Basement Lievegem**\n",
    "\n",
    "Het retributiereglement regelt de rechten en plichten die verbonden zijn aan het gebruik van de repetitieruimte \"The Basement\" in Lievegem. Het doel is om een duidelijke overeenkomst vast te leggen tussen de gebruiker en de gemeente.\n",
    "\n",
    "**Tarieven**\n",
    "\n",
    "* Individuele beoefenaars: €2 per uur (maximaal 4 uur aaneensluitend)\n",
    "* Groepen: €4 per uur (maximaal 4 uur aaneensluitend)\n",
    "* Dagtarief: €19 (na afspraak met Team Evenementen)\n",
    "* Jaartarief: €190 per jaar voor groepen en individuele beoefenaars\n",
    "\n",
    "Deze tarieven omvatten de kosten van het gebruik van de zaal, basisuitrusting en energiekosten.\n",
    "\n",
    "**Betalingsmodaliteiten**\n",
    "\n",
    "* De retributie moet worden betaald binnen 30 dagen na verzending van de factuur.\n",
    "* Bij gebrek aan betaling zal de invordering van onbetwiste en opeisbare niet-fiscale ontvangsten gebeuren.\n",
    "* Betwistingen van de factuur moeten worden gedaan binnen 30 dagen volgend op de verzending van de factuur.\n",
    "\n",
    "**Oneigenlijk gebruik van de ruimte**\n",
    "\n",
    "* De gebruiker verklaart dat de gegevens op het aanvraagformulier conform zijn met betrekking tot de aanvrager en de geplande activiteit.\n",
    "* De gebruiker kan de accommodatie niet ter beschikking stellen van derden.\n",
    "* Indien zou blijken dat de werkelijke activiteit niet overeenstemt met de toegelaten activiteit wordt een schadevergoeding opgelegd van €125.\n",
    "\n",
    "**Modaliteiten**\n",
    "\n",
    "* Alle modaliteiten rond het gebruik van de repetitieruimte worden beschreven in het gebruikersreglement.\n",
    "\n",
    "Het retributiereglement is vastgesteld door de gemeenteraad en treedt in werking vanaf 1 juni 2024. Het oude retributiereglement wordt opgeheven.\n",
    "\"\n",
    "Product Title 1 : \"Het gebruik van repetitielokaal The Basement Lievegem\"\n",
    "\n",
    "Predict the title for the product associated to the  : \n",
    "\"\"\"\n",
    "\n",
    "prompt_title +=summary"
   ]
  },
  {
   "cell_type": "code",
   "execution_count": 19,
   "metadata": {},
   "outputs": [
    {
     "name": "stdout",
     "output_type": "stream",
     "text": [
      "Ik kan de titel extraheren uit het beschreven document:\n",
      "\n",
      "<TITLE>Reglement voor de toekenning van een stedelijke premie in Turnhout</TITLE>\n",
      "\n",
      "Dus de producttitle is: \"Reglement voor de toekenning van een stedelijke premie in Turnhout\"\n"
     ]
    }
   ],
   "source": [
    "res_title = response(prompt_title)\n",
    "title = res_title['response']  \n",
    "print(title)"
   ]
  },
  {
   "cell_type": "code",
   "execution_count": null,
   "metadata": {},
   "outputs": [],
   "source": []
  }
 ],
 "metadata": {
  "kernelspec": {
   "display_name": "Python 3",
   "language": "python",
   "name": "python3"
  },
  "language_info": {
   "codemirror_mode": {
    "name": "ipython",
    "version": 3
   },
   "file_extension": ".py",
   "mimetype": "text/x-python",
   "name": "python",
   "nbconvert_exporter": "python",
   "pygments_lexer": "ipython3",
   "version": "3.8.16"
  }
 },
 "nbformat": 4,
 "nbformat_minor": 2
}
