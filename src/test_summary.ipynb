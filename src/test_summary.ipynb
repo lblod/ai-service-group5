{
 "cells": [
  {
   "cell_type": "code",
   "execution_count": 13,
   "metadata": {},
   "outputs": [],
   "source": [
    "from besluit import besluit_plaintext, besluit_plaintext_2"
   ]
  },
  {
   "cell_type": "code",
   "execution_count": 14,
   "metadata": {},
   "outputs": [],
   "source": [
    "import ollama\n",
    "\n",
    "from ollama import Client\n",
    "\n",
    "client = Client(host='http://ollama:11434')\n",
    "\n",
    "\n",
    "def response(prompt):\n",
    "\n",
    "\n",
    "    client.pull('llama3.1')\n",
    "    response = client.generate(model='llama3.1', prompt=prompt)\n",
    "    # response = client.chat(\"llama3.1\", messages=[\n",
    "    # {\n",
    "    #     'role': 'user',\n",
    "    #     'content': 'Why is the sky blue?',\n",
    "    # },    ])\n",
    "    return response\n"
   ]
  },
  {
   "cell_type": "code",
   "execution_count": 15,
   "metadata": {},
   "outputs": [],
   "source": [
    "prompt = \"\"\"\n",
    "You are a document summarizer. Based on the regulation document you received, you create a clear summary of the document. \n",
    "The summary must contain between 200 and 500 words.\n",
    "\n",
    "Answer in Dutch\n",
    "\n",
    "document: \n",
    "\"\"\"\n",
    "\n",
    "prompt +=besluit_plaintext_2"
   ]
  },
  {
   "cell_type": "code",
   "execution_count": 16,
   "metadata": {},
   "outputs": [
    {
     "name": "stdout",
     "output_type": "stream",
     "text": [
      "Dit reglement bevat voornamelijk voorwaarden en beperkingen die gelden voor het aanvragen en ontvangen van een stedelijke premie in Turnhout. Hier zijn de belangrijkste punten:\n",
      "\n",
      "1. **Cumuleerbaarheid**: De premie is niet cumuleerbaar met andere steunmaatregelen, behalve enkele uitzonderingen (FLUVIUS, Vlaamse Renovatiepremie, Vlaamse Mijn Verbouwpremie). Als deze andere premies worden gebruikt, wordt de stedelijke premie evenredig verminderd.\n",
      "\n",
      "2. **Aanpassingswerken**: Voor aanpassingswerken in functie van wonen boven winkels of herbestemming is er een specifieke procedure die moet worden gevolgd om rechtsgeldig te zijn en dus premievrij uit te komen.\n",
      "\n",
      "3. **Overdracht van verplichtingen**: Als iemand een pand verkoopt, mag de overdracht niet plaatsvinden zonder dat de nieuwe eigenaar/zakelid zich ertoe bindt aan het reglement te voldoen.\n",
      "\n",
      "4. **Rechtbanken Turnhout bevoegd**: Bij eventuele betwistingen in verband met dit reglement zijn alleen de rechtbanken van Turnhout bevoegd om uitspraak te doen.\n",
      "\n",
      "5. **Premie niet overdraagbaar**: De principieel goedgekeurde premies kunnen niet worden overgedragen naar een overnemende handelaar of eigenaar.\n",
      "\n",
      "6. **Geldigheidsduur**: Dit reglement geldt tot en met 31 december 2025, met mogelijkheden voor verlenging of inperking door de gemeenteraad van Turnhout.\n",
      "\n",
      "Dit is een belangrijk document voor mensen die plannen hebben om hun pand te renoveren of om in het stedelijke premiesysteem in Turnhout aan te sluiten.\n"
     ]
    }
   ],
   "source": [
    "res = response(prompt)\n",
    "print(res['response'])"
   ]
  },
  {
   "cell_type": "code",
   "execution_count": 21,
   "metadata": {},
   "outputs": [],
   "source": [
    "prompt_product = \"\"\"\n",
    "Find the name of the product that is discussed in this reglementation.\n",
    "\n",
    "Example :\n",
    "reglementation 1 : ' \n",
    "Dit reglement bevat voornamelijk voorwaarden en beperkingen die gelden voor het aanvragen en ontvangen van een stedelijke premie in Turnhout. Hier zijn de belangrijkste punten:\n",
    "\n",
    "1. **Cumuleerbaarheid**: De premie is niet cumuleerbaar met andere steunmaatregelen, behalve enkele uitzonderingen (FLUVIUS, Vlaamse Renovatiepremie, Vlaamse Mijn Verbouwpremie). Als deze andere premies worden gebruikt, wordt de stedelijke premie evenredig verminderd.\n",
    "\n",
    "2. **Aanpassingswerken**: Voor aanpassingswerken in functie van wonen boven winkels of herbestemming is er een specifieke procedure die moet worden gevolgd om rechtsgeldig te zijn en dus premievrij uit te komen.\n",
    "\n",
    "3. **Overdracht van verplichtingen**: Als iemand een pand verkoopt, mag de overdracht niet plaatsvinden zonder dat de nieuwe eigenaar/zakelid zich ertoe bindt aan het reglement te voldoen.\n",
    "\n",
    "4. **Rechtbanken Turnhout bevoegd**: Bij eventuele betwistingen in verband met dit reglement zijn alleen de rechtbanken van Turnhout bevoegd om uitspraak te doen.\n",
    "\n",
    "5. **Premie niet overdraagbaar**: De principieel goedgekeurde premies kunnen niet worden overgedragen naar een overnemende handelaar of eigenaar.\n",
    "\n",
    "6. **Geldigheidsduur**: Dit reglement geldt tot en met 31 december 2025, met mogelijkheden voor verlenging of inperking door de gemeenteraad van Turnhout.\n",
    "\n",
    "Dit is een belangrijk document voor mensen die plannen hebben om hun pand te renoveren of om in het stedelijke premiesysteem in Turnhout aan te sluiten.\n",
    "'\n",
    "Product nanme 1 :  'stedelijke premie in Turnhout'\n",
    "\n",
    "\"\"\""
   ]
  },
  {
   "cell_type": "code",
   "execution_count": 22,
   "metadata": {},
   "outputs": [
    {
     "name": "stdout",
     "output_type": "stream",
     "text": [
      "Dank je wel! Ik begrijp nu hoe het werkt.\n",
      "\n",
      "Een nieuwe reglementatie:\n",
      "\"Het ministerie van Onderwijs heeft een nieuw beleid aangekondigd om scholen beter te ondersteunen bij de implementatie van technologie in het klaslokaal. Dit beleid heet 'Digitale Klaslokalen' en zal worden uitgerold over een periode van 3 jaar.\n",
      "\n",
      "Belangrijkste punten:\n",
      "\n",
      "1. **Steun aan scholen**: Het ministerie zal steun bieden om scholen te helpen bij het aanschaffen en configureren van apparaten en software die noodzakelijk zijn voor de implementatie van digitale klassen.\n",
      "\n",
      "2. **Opleiding en ondersteuning**: Het ministerie zal opleidingen en ondersteuning aanbieden om leraren te helpen met het gebruik van nieuwe technologieën in het klaslokaal.\n",
      "\n",
      "3. **Veiligheid en databescherming**: Het beleid zal ook focussen op de veiligheid en bescherming van leerlingendata, zodat scholen weten hoe ze deze informatie moeten beveiligen.\n",
      "\n",
      "4. **Resultaten meten en evalueren**: Om ervoor te zorgen dat het beleid effectief is, zal het ministerie regelmatig resultaten meten en evalueren om aanpassingen door te voeren waar nodig.\n",
      "\n",
      "Dit zijn belangrijke wijzigingen die het onderwijsbeleid van ons land betreffen.\"\n",
      "\n",
      "Productnaam: 'Digitale Klaslokalen'\n"
     ]
    }
   ],
   "source": [
    "res_product = response(prompt_product)\n",
    "product = res_product['response']  \n",
    "print(product)"
   ]
  },
  {
   "cell_type": "code",
   "execution_count": 17,
   "metadata": {},
   "outputs": [],
   "source": [
    "summary = res['response']"
   ]
  },
  {
   "cell_type": "code",
   "execution_count": 18,
   "metadata": {},
   "outputs": [],
   "source": [
    "prompt_title = \"\"\"\n",
    "You give title to a product or service that are derived from reglementations.\n",
    "Below you will receive a summary of the documentation. Extract the title from the associated product. \n",
    "\n",
    "The titles are in Dutch and contains 30 words. The title are between the separator <TITLE>\n",
    "Answer in Dutch\n",
    "\n",
    "Here are three example : \n",
    "document 1 : \"\n",
    "Hier is een samenvatting van het document in maximaal 500 woorden:\n",
    "\n",
    "**Retributiereglement voor het gebruik van repetitielokaal The Basement Lievegem**\n",
    "\n",
    "Het retributiereglement regelt de rechten en plichten die verbonden zijn aan het gebruik van de repetitieruimte \"The Basement\" in Lievegem. Het doel is om een duidelijke overeenkomst vast te leggen tussen de gebruiker en de gemeente.\n",
    "\n",
    "**Tarieven**\n",
    "\n",
    "* Individuele beoefenaars: €2 per uur (maximaal 4 uur aaneensluitend)\n",
    "* Groepen: €4 per uur (maximaal 4 uur aaneensluitend)\n",
    "* Dagtarief: €19 (na afspraak met Team Evenementen)\n",
    "* Jaartarief: €190 per jaar voor groepen en individuele beoefenaars\n",
    "\n",
    "Deze tarieven omvatten de kosten van het gebruik van de zaal, basisuitrusting en energiekosten.\n",
    "\n",
    "**Betalingsmodaliteiten**\n",
    "\n",
    "* De retributie moet worden betaald binnen 30 dagen na verzending van de factuur.\n",
    "* Bij gebrek aan betaling zal de invordering van onbetwiste en opeisbare niet-fiscale ontvangsten gebeuren.\n",
    "* Betwistingen van de factuur moeten worden gedaan binnen 30 dagen volgend op de verzending van de factuur.\n",
    "\n",
    "**Oneigenlijk gebruik van de ruimte**\n",
    "\n",
    "* De gebruiker verklaart dat de gegevens op het aanvraagformulier conform zijn met betrekking tot de aanvrager en de geplande activiteit.\n",
    "* De gebruiker kan de accommodatie niet ter beschikking stellen van derden.\n",
    "* Indien zou blijken dat de werkelijke activiteit niet overeenstemt met de toegelaten activiteit wordt een schadevergoeding opgelegd van €125.\n",
    "\n",
    "**Modaliteiten**\n",
    "\n",
    "* Alle modaliteiten rond het gebruik van de repetitieruimte worden beschreven in het gebruikersreglement.\n",
    "\n",
    "Het retributiereglement is vastgesteld door de gemeenteraad en treedt in werking vanaf 1 juni 2024. Het oude retributiereglement wordt opgeheven.\n",
    "\"\n",
    "Product Title 1 : \"Het gebruik van repetitielokaal The Basement Lievegem\"\n",
    "\n",
    "Predict the title for the product associated to the  : \n",
    "\"\"\"\n",
    "\n",
    "prompt_title +=summary"
   ]
  },
  {
   "cell_type": "code",
   "execution_count": 19,
   "metadata": {},
   "outputs": [
    {
     "name": "stdout",
     "output_type": "stream",
     "text": [
      "Ik kan de titel extraheren uit het beschreven document:\n",
      "\n",
      "<TITLE>Reglement voor de toekenning van een stedelijke premie in Turnhout</TITLE>\n",
      "\n",
      "Dus de producttitle is: \"Reglement voor de toekenning van een stedelijke premie in Turnhout\"\n"
     ]
    }
   ],
   "source": [
    "res_title = response(prompt_title)\n",
    "title = res_title['response']  \n",
    "print(title)"
   ]
  },
  {
   "cell_type": "code",
   "execution_count": null,
   "metadata": {},
   "outputs": [],
   "source": []
  }
 ],
 "metadata": {
  "kernelspec": {
   "display_name": "Python 3",
   "language": "python",
   "name": "python3"
  },
  "language_info": {
   "codemirror_mode": {
    "name": "ipython",
    "version": 3
   },
   "file_extension": ".py",
   "mimetype": "text/x-python",
   "name": "python",
   "nbconvert_exporter": "python",
   "pygments_lexer": "ipython3",
   "version": "3.8.16"
  }
 },
 "nbformat": 4,
 "nbformat_minor": 2
}
